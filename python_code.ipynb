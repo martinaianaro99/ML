{
 "cells": [
  {
   "cell_type": "markdown",
   "id": "6d34676e-5bef-464a-a091-f2855e8a3849",
   "metadata": {},
   "source": [
   ]
  },
  {
   "cell_type": "code",
   "execution_count": 61,
   "id": "91b9b2f4-3308-47f3-9eb6-c4b4e1a47c81",
   "metadata": {},
   "outputs": [],
   "source": [
    "import pandas as pd\n",
    "import numpy as np\n",
    "from sklearn.preprocessing import OrdinalEncoder\n",
    "from sklearn.compose import ColumnTransformer\n",
    "from sklearn.model_selection import train_test_split, GridSearchCV\n",
    "from sklearn.ensemble import RandomForestClassifier\n",
    "from sklearn.tree import DecisionTreeClassifier\n",
    "from sklearn.metrics import accuracy_score, plot_confusion_matrix\n",
    "from matplotlib import pyplot as plt\n",
    "from sklearn.metrics import classification_report\n",
    "\n",
    "rnd_state = 42 #in order to reproduce the code"
   ]
  },
  {
   "cell_type": "markdown",
   "id": "2a06775b-da15-4fe8-943a-fff0ebceec52",
   "metadata": {},
   "source": [
    "TASK 1:\n",
    "load data and explore them"
   ]
  },
  {
   "cell_type": "code",
   "execution_count": 46,
   "id": "8757c980-7156-40ee-b708-24ac4ef52a76",
   "metadata": {},
   "outputs": [],
   "source": [
    "url = 'exam2022_01_13.csv'\n",
    "df = pd.read_csv(url, sep = ',')"
   ]
  },
  {
   "cell_type": "code",
   "execution_count": 48,
   "id": "74c9f408-6a6d-434f-b317-24c5fb8d36c9",
   "metadata": {},
   "outputs": [
    {
     "data": {
      "text/plain": [
       "(329, 13)"
      ]
     },
     "execution_count": 48,
     "metadata": {},
     "output_type": "execute_result"
    }
   ],
   "source": [
    "df.shape #structure of dataset"
   ]
  },
  {
   "cell_type": "code",
   "execution_count": 49,
   "id": "17ed8c9d-8479-4213-9ab5-f1ccc5ec97da",
   "metadata": {},
   "outputs": [
    {
     "data": {
      "text/plain": [
       "4277"
      ]
     },
     "execution_count": 49,
     "metadata": {},
     "output_type": "execute_result"
    }
   ],
   "source": [
    "df.size #size of dataset"
   ]
  },
  {
   "cell_type": "markdown",
   "id": "b9a8ee93-4440-40c8-9aa1-906ed4be6f5f",
   "metadata": {},
   "source": [
    "histograms of numeric data"
   ]
  },
  {
   "cell_type": "code",
   "execution_count": 88,
   "id": "df36d344-30dc-4911-aa9c-8f9674496610",
   "metadata": {},
   "outputs": [
    {
     "data": {
      "image/png": "[encoded data removed]",
      "text/plain": [
       "<Figure size 720x720 with 12 Axes>"
      ]
     },
     "metadata": {
      "needs_background": "light"
     },
     "output_type": "display_data"
    }
   ],
   "source": [
    "pd.DataFrame.hist(df, figsize = [10,10]);"
   ]
  },
  {
   "cell_type": "markdown",
   "id": "a2669660-fed0-46d5-b215-ac125792903f",
   "metadata": {},
   "source": [
    " Histogram of the frequencies of the class labels, contained in the “language” column ."
   ]
  },
  {
   "cell_type": "code",
   "execution_count": 72,
   "id": "c3b4ed62-0972-46db-9515-594845ce3174",
   "metadata": {},
   "outputs": [
    {
     "data": {
      "image/png": "[encoded data removed]",
      "text/plain": [
       "<Figure size 432x288 with 1 Axes>"
      ]
     },
     "metadata": {
      "needs_background": "light"
     },
     "output_type": "display_data"
    }
   ],
   "source": [
    "#histogram of the frequencies of the class labels contained in the “language” column .\n",
    "col= 'language'\n",
    "plt.hist(df[col])\n",
    "plt.show()"
   ]
  },
  {
   "cell_type": "markdown",
   "id": "21f2af97-3aba-4192-9053-705b6ac3f828",
   "metadata": {},
   "source": [
    "TASK 2: drop the rows with NaN values"
   ]
  },
  {
   "cell_type": "code",
   "execution_count": 51,
   "id": "7cc8005b-5c17-4a90-9426-5c6f0a054f34",
   "metadata": {},
   "outputs": [
    {
     "name": "stdout",
     "output_type": "stream",
     "text": [
      "After removing the NaNs, we're left with 321 rows.\n"
     ]
    },
    {
     "data": {
      "text/plain": [
       "(321, 13)"
      ]
     },
     "execution_count": 51,
     "metadata": {},
     "output_type": "execute_result"
    }
   ],
   "source": [
    "df2 = df.dropna()\n",
    "print(f\"After removing the NaNs, we're left with {df2.shape[0]} rows.\")\n"
   ]
  },
  {
   "cell_type": "code",
   "execution_count": 83,
   "id": "e8e08ee6-e5bd-4fa6-a574-aa337ee7c8c4",
   "metadata": {},
   "outputs": [
    {
     "data": {
      "text/plain": [
       "(321, 13)"
      ]
     },
     "execution_count": 83,
     "metadata": {},
     "output_type": "execute_result"
    }
   ],
   "source": [
    "df2.shape  #the shape of dataset after cleaning null values"
   ]
  },
  {
   "cell_type": "markdown",
   "id": "12256446-581b-4da1-8ae5-e0754363ca5b",
   "metadata": {},
   "source": [
    "Split data set in train and test set\n"
   ]
  },
  {
   "cell_type": "code",
   "execution_count": 52,
   "id": "ebb82ab6-53a6-4c1a-98a3-ddbcd8a1322a",
   "metadata": {},
   "outputs": [],
   "source": [
    "X = df2.drop([col], axis=1)\n",
    "y = df2[col]"
   ]
  },
  {
   "cell_type": "code",
   "execution_count": 84,
   "id": "98327d32-5b30-4236-b533-194551bf4ec7",
   "metadata": {},
   "outputs": [
    {
     "name": "stdout",
     "output_type": "stream",
     "text": [
      "Now, X_train has 240 rows and 12 columns.\n"
     ]
    }
   ],
   "source": [
    "ts=0.25\n",
    "X_train, X_test, y_train, y_test = train_test_split(X, y, test_size=ts, random_state=rnd_state)\n",
    "print(f\"Now, X_train has {X_train.shape[0]} rows and {X_train.shape[1]} columns.\")"
   ]
  },
  {
   "cell_type": "markdown",
   "id": "7ca28f2a-bc9f-4f4c-b800-136b4be606de",
   "metadata": {},
   "source": [
    "TASK:\n",
    "tune the hyper–parameters of Model1 and Model 2 with Cross Validation on the\n",
    "training set, optimize for recall_macro "
   ]
  },
  {
   "cell_type": "code",
   "execution_count": 54,
   "id": "4c9147a1-5fd6-4f39-a76a-89c636eca2f6",
   "metadata": {},
   "outputs": [],
   "source": [
    "#we've decided to use a Decision tree and a Random Forest classifier\n",
    "model_lbls = ['DT', 'RFC'] \n",
    "\n",
    "#these are the parameters we're going to test\n",
    "tuned_param_dt = [{'max_depth':list(range(1,20))}] \n",
    "tuned_param_rfc = [{'max_depth':list(range(1,11))}]\n",
    "\n",
    "models = {\n",
    "    \n",
    "    'DT': {\n",
    "            'estimator': DecisionTreeClassifier(),\n",
    "            'parameter': tuned_param_dt\n",
    "          },\n",
    "    \n",
    "    \n",
    "    'RFC': {\n",
    "            'estimator': RandomForestClassifier(),\n",
    "            'parameter': tuned_param_rfc\n",
    "          },\n",
    "}\n",
    "\n",
    "scores = [\n",
    "    'recall_macro', \n",
    "         ]\n",
    "\n"
   ]
  },
  {
   "cell_type": "code",
   "execution_count": 114,
   "id": "fd213f64-df56-44cf-8eb2-925d0c650e75",
   "metadata": {},
   "outputs": [],
   "source": [
    "#results_short = {}\n",
    "best_param = {}\n",
    "\n",
    "for score in scores:\n",
    "    for m in model_lbls:\n",
    "        clf = GridSearchCV(models[m]['estimator'], models[m]['parameter'], cv=5,\n",
    "                          scoring=score, \n",
    "                           return_train_score = False,\n",
    "                           n_jobs = 2,\n",
    "                           )\n",
    "        clf.fit(X_train, y_train)\n",
    "        best_param[m] = [clf.best_params_]\n"
   ]
  },
  {
   "cell_type": "code",
   "execution_count": 115,
   "id": "c6697b92-17b4-4535-881b-682a60cd4215",
   "metadata": {},
   "outputs": [],
   "source": [
    "model1 = DecisionTreeClassifier(max_depth = best_param['DT'][0]['max_depth']\n",
    "                               , random_state=rnd_state)\n",
    "model2 = RandomForestClassifier(max_depth= best_param['RFC'][0]['max_depth'],\n",
    "                               random_state=rnd_state)\n",
    "\n",
    "model1.fit(X_train, y_train)\n",
    "model2.fit(X_train, y_train);\n",
    "\n",
    "model1_predictions = model1.predict(X_test)\n",
    "model2_predictions = model2.predict(X_test)"
   ]
  },
  {
   "cell_type": "markdown",
   "id": "fdb49355-379d-4326-9733-5869be0a602b",
   "metadata": {},
   "source": [
    "TASK 4: produce a classification report for Model1 on the test set "
   ]
  },
  {
   "cell_type": "code",
   "execution_count": 116,
   "id": "9e22c405-7e2d-4354-8b19-41611262fa9f",
   "metadata": {},
   "outputs": [
    {
     "name": "stdout",
     "output_type": "stream",
     "text": [
      "              precision    recall  f1-score   support\n",
      "\n",
      "          ES       0.70      0.88      0.78         8\n",
      "          FR       0.50      0.71      0.59         7\n",
      "          GE       0.40      0.44      0.42         9\n",
      "          IT       0.64      0.64      0.64        11\n",
      "          UK       1.00      0.17      0.29         6\n",
      "          US       0.82      0.80      0.81        40\n",
      "\n",
      "    accuracy                           0.69        81\n",
      "   macro avg       0.68      0.61      0.59        81\n",
      "weighted avg       0.72      0.69      0.68        81\n",
      "\n"
     ]
    }
   ],
   "source": [
    "print(classification_report(y_test, model1_predictions)) #for model 1"
   ]
  },
  {
   "cell_type": "markdown",
   "id": "9cb5457e-96b1-43ae-af52-ca37ec81159c",
   "metadata": {},
   "source": [
    "TASK 5: produce the confusion matrix for Model1 on the test set"
   ]
  },
  {
   "cell_type": "code",
   "execution_count": 117,
   "id": "642b845b-be5d-428e-bc85-b60907c65fa3",
   "metadata": {},
   "outputs": [
    {
     "data": {
      "image/png": "[encoded data removed]",
      "text/plain": [
       "<Figure size 432x288 with 2 Axes>"
      ]
     },
     "metadata": {
      "needs_background": "light"
     },
     "output_type": "display_data"
    }
   ],
   "source": [
    "plot_confusion_matrix(model1, X_test, y_test, normalize='pred')\n",
    "plt.show()"
   ]
  },
  {
   "cell_type": "markdown",
   "id": "a4c7629f-863a-400d-89e9-73dac5c0676d",
   "metadata": {},
   "source": [
    "TASK 7: produce a classification report for Model2 on the test set "
   ]
  },
  {
   "cell_type": "code",
   "execution_count": 118,
   "id": "746f0e0d-8b97-446b-a8d0-8a69080d2519",
   "metadata": {},
   "outputs": [
    {
     "name": "stdout",
     "output_type": "stream",
     "text": [
      "              precision    recall  f1-score   support\n",
      "\n",
      "          ES       1.00      0.88      0.93         8\n",
      "          FR       1.00      0.71      0.83         7\n",
      "          GE       0.80      0.44      0.57         9\n",
      "          IT       0.60      0.55      0.57        11\n",
      "          UK       0.75      0.50      0.60         6\n",
      "          US       0.76      0.95      0.84        40\n",
      "\n",
      "    accuracy                           0.78        81\n",
      "   macro avg       0.82      0.67      0.73        81\n",
      "weighted avg       0.79      0.78      0.77        81\n",
      "\n"
     ]
    }
   ],
   "source": [
    "print(classification_report(y_test, model2_predictions)) #for model 2"
   ]
  },
  {
   "cell_type": "markdown",
   "id": "0cff4d79-4708-47ac-9605-c87b30147ab3",
   "metadata": {},
   "source": [
    "TASK 8: produce the confusion matrix for Model2 on the test set "
   ]
  },
  {
   "cell_type": "code",
   "execution_count": 119,
   "id": "60115aae-b244-442d-b558-20ef355677f0",
   "metadata": {},
   "outputs": [
    {
     "data": {
      "image/png": "[encoded data removed]",
      "text/plain": [
       "<Figure size 432x288 with 2 Axes>"
      ]
     },
     "metadata": {
      "needs_background": "light"
     },
     "output_type": "display_data"
    }
   ],
   "source": [
    "plot_confusion_matrix(model2, X_test, y_test, normalize='pred')\n",
    "plt.show()"
   ]
  },
  {
   "cell_type": "code",
   "execution_count": 120,
   "id": "81802952-b911-43b4-82c7-ca3d9555482b",
   "metadata": {},
   "outputs": [
    {
     "name": "stdout",
     "output_type": "stream",
     "text": [
      "Accuracy of model1: 69.136 %\n",
      "Accuracy of model2: 77.778 %\n"
     ]
    }
   ],
   "source": [
    "model1_accuracy = accuracy_score(y_test, model1_predictions)\n",
    "model2_accuracy = accuracy_score(y_test, model2_predictions)\n",
    "\n",
    "print('Accuracy of model1:',round(model1_accuracy*100,3),'%')\n",
    "print('Accuracy of model2:', round(model2_accuracy*100,3),'%')"
   ]
  },
  {
   "cell_type": "code",
   "execution_count": null,
   "id": "74552fb7-9736-4de6-a48e-ee65335f8d98",
   "metadata": {},
   "outputs": [],
   "source": []
  }
 ],
 "metadata": {
  "kernelspec": {
   "display_name": "Python 3",
   "language": "python",
   "name": "python3"
  },
  "language_info": {
   "codemirror_mode": {
    "name": "ipython",
    "version": 3
   },
   "file_extension": ".py",
   "mimetype": "text/x-python",
   "name": "python",
   "nbconvert_exporter": "python",
   "pygments_lexer": "ipython3",
   "version": "3.6.7rc2"
  }
 },
 "nbformat": 4,
 "nbformat_minor": 5
}
